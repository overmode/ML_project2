{
 "cells": [
  {
   "cell_type": "code",
   "execution_count": 1,
   "metadata": {},
   "outputs": [],
   "source": [
    "#import libraries\n",
    "from collections import Counter\n",
    "from datetime import datetime \n",
    "from nltk import word_tokenize, bigrams, trigrams\n",
    "from nltk.stem import PorterStemmer\n",
    "from nltk.tokenize import TweetTokenizer\n",
    "from nltk.util import ngrams\n",
    "\n",
    "tknzr = TweetTokenizer(preserve_case=False)\n",
    "ps = PorterStemmer()"
   ]
  },
  {
   "cell_type": "code",
   "execution_count": 2,
   "metadata": {},
   "outputs": [
    {
     "name": "stdout",
     "output_type": "stream",
     "text": [
      "number of positive tweets: 1250000\n"
     ]
    }
   ],
   "source": [
    "# get number of tweets in the corpus\n",
    "\n",
    "def file_len(fname):\n",
    "    with open(fname) as f:\n",
    "        for i, l in enumerate(f):\n",
    "            pass\n",
    "    return i + 1\n",
    "\n",
    "pos_len = file_len('twitter-datasets/train_pos_full.txt')\n",
    "\n",
    "#print(file_len('twitter-datasets/train_pos.txt'))\n",
    "print(\"number of positive tweets:\", pos_len)"
   ]
  },
  {
   "cell_type": "code",
   "execution_count": 3,
   "metadata": {},
   "outputs": [
    {
     "name": "stdout",
     "output_type": "stream",
     "text": [
      "644575\n",
      "Time elpased (hh:mm:ss.ms) 0:07:23.805066\n"
     ]
    }
   ],
   "source": [
    "final_set = Counter()\n",
    "\n",
    "# add stemmed tokens, bigrams and trigrams\n",
    "startTime= datetime.now()\n",
    "with open('twitter-datasets/train_pos_full.txt', \"r\") as inputfile:\n",
    "    counter = 0\n",
    "    for line in inputfile:\n",
    "        tokens = [ps.stem(token) for token in tknzr.tokenize(line)]\n",
    "\n",
    "        final_set.update(tokens)\n",
    "        final_set.update(bigrams(tokens))\n",
    "        final_set.update(trigrams(tokens))\n",
    "        \n",
    "        if counter%1000==1:\n",
    "            print(\"{:.1f}\".format(counter/pos_len*100), \"%\", end='\\r')\n",
    "            #break\n",
    "        counter+=1\n",
    "        \n",
    "# remove less frequent items\n",
    "threshold = 5\n",
    "print(\"removing items present less than\", threshold, \"times\")\n",
    "final_set = Counter(token for token in final_set.elements() if final_set[token] >= threshold)\n",
    "    \n",
    "timeElapsed=datetime.now()-startTime \n",
    "\n",
    "print(len(final_set))\n",
    "print('Time elpased (hh:mm:ss.ms) {}'.format(timeElapsed))"
   ]
  },
  {
   "cell_type": "code",
   "execution_count": 4,
   "metadata": {},
   "outputs": [
    {
     "name": "stdout",
     "output_type": "stream",
     "text": [
      "[('<user>', 1027186), ('!', 633599), ('i', 456073), ('you', 400781), ('.', 379333), ('to', 346778), (',', 342877), ('the', 327187), ('a', 266349), ('and', 214000), ('my', 202919), ('?', 193768), ('it', 187810), ('me', 183474), ('for', 157626), (('!', '!'), 148078), (('<user>', '<user>'), 138413), ('is', 131228), ('in', 128603), ('that', 120324), ('of', 119390), ('\"', 115315), ('be', 114676), ('on', 111581), ('love', 107665), (')', 104664), ('follow', 104198), ('thank', 100189), ('...', 99784), ('so', 99335), ('<url>', 98885), ('have', 97854), ('with', 94635), ('your', 93341), (\"i'm\", 87483), ('rt', 86721), ('just', 85016), ('thi', 84292), ('get', 73385), ('good', 72984), ('but', 72551), ('like', 70002), ('go', 69281), ('are', 68021), ('lol', 67018), ('..', 65597), ('do', 63200), ('all', 61782), (('<user>', 'i'), 60757), ('if', 60452), ('u', 59594), ('know', 58863), ('day', 58612), ('can', 57382), (('rt', '<user>'), 57268), ('at', 56979), ('we', 56209), ('wa', 56122), ('&', 53821), ('one', 53478), ('up', 52055), ('not', 51478), ('what', 50984), ('will', 50941), ('pleas', 50936), (('<user>', '<user>', '<user>'), 48409), ('when', 46222), ('see', 45788), ('now', 44109), (':', 44072), ('out', 43746), ('haha', 43179), (('!', '!', '!'), 42861), ('-', 42591), ('<3', 41821), ('back', 40983), (('i', 'love'), 40301), ('make', 39940), ('too', 39904), ('time', 39549), ('want', 39332), (\"it'\", 38224), (\"don't\", 37777), (('<user>', 'thank'), 37050), (\"'\", 36841), ('think', 36836), ('x', 36568), ('about', 36075), ('(', 36054), ('how', 35775), ('got', 35717), ('no', 35533), ('today', 34238), ('from', 33679), ('come', 32731), ('happi', 32599), ('he', 31220), ('look', 30830), ('well', 30808), ('hope', 30130)]\n"
     ]
    }
   ],
   "source": [
    "print(final_set.most_common(100))"
   ]
  },
  {
   "cell_type": "code",
   "execution_count": null,
   "metadata": {
    "collapsed": true
   },
   "outputs": [],
   "source": []
  }
 ],
 "metadata": {
  "kernelspec": {
   "display_name": "Python 3",
   "language": "python",
   "name": "python3"
  },
  "language_info": {
   "codemirror_mode": {
    "name": "ipython",
    "version": 3
   },
   "file_extension": ".py",
   "mimetype": "text/x-python",
   "name": "python",
   "nbconvert_exporter": "python",
   "pygments_lexer": "ipython3",
   "version": "3.6.3"
  }
 },
 "nbformat": 4,
 "nbformat_minor": 2
}
