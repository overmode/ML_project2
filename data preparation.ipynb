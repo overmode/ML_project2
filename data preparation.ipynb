{
 "cells": [
  {
   "cell_type": "code",
   "execution_count": 1,
   "metadata": {
    "collapsed": true
   },
   "outputs": [],
   "source": [
    "#import libraries\n",
    "from collections import Counter\n",
    "from datetime import datetime\n",
    "\n",
    "from extract_tokens import extract_tokens"
   ]
  },
  {
   "cell_type": "code",
   "execution_count": 2,
   "metadata": {
    "collapsed": true
   },
   "outputs": [],
   "source": [
    "# get number of tweets in the corpus\n",
    "def file_len(fname):\n",
    "    with open(fname) as f:\n",
    "        for i, l in enumerate(f):\n",
    "            pass\n",
    "    return i + 1"
   ]
  },
  {
   "cell_type": "code",
   "execution_count": 3,
   "metadata": {},
   "outputs": [
    {
     "name": "stdout",
     "output_type": "stream",
     "text": [
      "removing items present less than 5 times\n",
      "82439\n",
      "Time elpased (hh:mm:ss.ms) 0:00:40.280470\n"
     ]
    }
   ],
   "source": [
    "# add stemmed tokens, bigrams and trigrams\n",
    "\n",
    "final_set = Counter()\n",
    "read_file_name = 'twitter-datasets/train_neg.txt'\n",
    "\n",
    "startTime= datetime.now()\n",
    "with open(read_file_name, \"r\") as inputfile:\n",
    "    counter = 0\n",
    "    for line in inputfile:\n",
    "        \n",
    "        final_set.update(extract_tokens(line))\n",
    "        \n",
    "        if counter%1000==1:\n",
    "            print(\"{:.1f}\".format(counter/file_len(read_file_name)*100), \"%\", end='\\r')\n",
    "            #break\n",
    "        counter+=1\n",
    "        \n",
    "# remove less frequent items\n",
    "threshold = 5\n",
    "print(\"removing items present less than\", threshold, \"times\")\n",
    "final_set = Counter(token for token in final_set.elements() if final_set[token] >= threshold)\n",
    "    \n",
    "timeElapsed=datetime.now()-startTime \n",
    "\n",
    "print(len(final_set))\n",
    "print('Time elpased (hh:mm:ss.ms) {}'.format(timeElapsed))"
   ]
  },
  {
   "cell_type": "code",
   "execution_count": 10,
   "metadata": {},
   "outputs": [
    {
     "name": "stdout",
     "output_type": "stream",
     "text": [
      "[('<user>', 46321), ('(', 43736), ('i', 43412), ('the', 34726), ('<url>', 34310), ('...', 32919), (',', 32525), ('!', 30183), ('.', 28854), ('to', 28526), (('...', '<url>'), 26123), ('a', 20607), ('and', 19088), ('of', 17625), ('you', 16284), ('my', 15734), ('is', 14457), ('in', 13990), ('me', 12780), ('-', 12650), ('it', 12364), ('for', 11765), ('thi', 11517), ('\"', 11439), ('?', 11294), (':', 10246), ('with', 8522), (('!', '!'), 8139), ('frame', 7996), ('so', 7949), ('that', 7398), ('have', 7215), ('on', 7138), ('/', 6843), ('but', 6761), ('be', 6681), (\"i'm\", 6663), (')', 6453), ('go', 5982), ('just', 5886), ('wa', 5684), ('not', 5683), (('<user>', 'i'), 5450), ('at', 5188), ('get', 5076), (('<user>', '<user>'), 5056), ('rt', 4696), ('like', 4406), ('miss', 4342), ('want', 4284), ('no', 4254), ('are', 4236), ('..', 4231), ('your', 4171), ('all', 4162), ('now', 3999), ('up', 3989), ('when', 3950), ('do', 3917), (('rt', '<user>'), 3881), (\"don't\", 3872), ('one', 3661), ('&', 3637), ('2', 3533), ('paperback', 3517), ('know', 3474), ('what', 3319), ('from', 3241), (('(', 'paperback'), 3222), ('out', 3135), ('love', 3134), ('see', 3110), ('u', 3076), (\"can't\", 3048), ('day', 2960), ('realli', 2958), (\"'\", 2842), ('feel', 2806), (('in', 'the'), 2804), ('too', 2768), ('time', 2752), ('we', 2751), ('whi', 2740), ((')', '('), 2733), ('wish', 2697), (('!', '!', '!'), 2684), ('pack', 2657), ('think', 2631), ('need', 2587), ('black', 2565), ('complet', 2563), ('can', 2559), ('back', 2485), (('go', 'to'), 2485), ('an', 2476), ('by', 2467), ('1', 2463), ('pleas', 2461), (('of', 'the'), 2442), ('work', 2441)]\n"
     ]
    }
   ],
   "source": [
    "print(final_set.most_common(100))"
   ]
  },
  {
   "cell_type": "code",
   "execution_count": 14,
   "metadata": {
    "collapsed": true
   },
   "outputs": [],
   "source": [
    "# write to file\n",
    "write_file_name = 'twitter-datasets/vocab_neg_full_cut.txt'\n",
    "\n",
    "with open(write_file_name, \"w\") as inputfile:\n",
    "    for token, count in final_set.most_common():\n",
    "        inputfile.write(str(count))\n",
    "        inputfile.write(\" \")\n",
    "        inputfile.write(str(token))\n",
    "        inputfile.write(\"\\n\")"
   ]
  },
  {
   "cell_type": "code",
   "execution_count": null,
   "metadata": {
    "collapsed": true
   },
   "outputs": [],
   "source": []
  }
 ],
 "metadata": {
  "kernelspec": {
   "display_name": "Python 3",
   "language": "python",
   "name": "python3"
  },
  "language_info": {
   "codemirror_mode": {
    "name": "ipython",
    "version": 3
   },
   "file_extension": ".py",
   "mimetype": "text/x-python",
   "name": "python",
   "nbconvert_exporter": "python",
   "pygments_lexer": "ipython3",
   "version": "3.6.1"
  }
 },
 "nbformat": 4,
 "nbformat_minor": 2
}
