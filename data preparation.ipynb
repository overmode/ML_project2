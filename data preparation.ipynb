{
 "cells": [
  {
   "cell_type": "code",
   "execution_count": null,
   "metadata": {
    "collapsed": true
   },
   "outputs": [],
   "source": []
  },
  {
   "cell_type": "code",
   "execution_count": null,
   "metadata": {
    "collapsed": true
   },
   "outputs": [],
   "source": [
    "def import_(path, is_test_data):\n",
    "    if is_test_data :\n",
    "        with open(path, 'r') as f:\n",
    "            tweets = [line.strip()[line.find(\",\")+1:] for line in f]     # Make sure to withdraw the \"nbr\", \n",
    "    else: \n",
    "         with open(path, 'r') as f:\n",
    "            tweets = [line.strip() for line in f]    \n",
    "    return tweets\n",
    "\n",
    "def export(tweets, name):\n",
    "    with open(name, 'w') as f:\n",
    "        f.write(\"\\n\".join(tweets))\n",
    "        "
   ]
  },
  {
   "cell_type": "code",
   "execution_count": null,
   "metadata": {
    "collapsed": true
   },
   "outputs": [],
   "source": [
    "tweets = add_bitri([\"j'adore le camembert\", \"roses are red\"])\n",
    "print(tweets)"
   ]
  },
  {
   "cell_type": "code",
   "execution_count": null,
   "metadata": {
    "collapsed": true
   },
   "outputs": [],
   "source": [
    "def add_bitri(tweets):\n",
    "    \"append bigrams and trigrams to the tweets \"\n",
    "    nb_tweets = len(tweets)\n",
    "    for i, tweet in enumerate(tweets):\n",
    "        to_store = ''\n",
    "        for t in extract_tokens(tweet):\n",
    "            to_store = to_store + \" \" + token_to_string(t)\n",
    "        tweets[i] = to_store\n",
    "        if i%1000==0:\n",
    "            print(\"{:.1f}\".format(i/nb_tweets*100), \"%\", end='\\r')\n",
    "    return tweets"
   ]
  },
  {
   "cell_type": "code",
   "execution_count": null,
   "metadata": {
    "collapsed": true
   },
   "outputs": [],
   "source": [
    "def create_bitri_tweets(previous_name, dest, is_test_data):\n",
    "    startTime= datetime.now()\n",
    "    tweets = import_(previous_name, is_test_data)\n",
    "    tweets = add_bitri(tweets)\n",
    "    export(tweets, dest)    \n",
    "    timeElapsed=datetime.now()-startTime\n",
    "    print('Time elpased (hh:mm:ss.ms) {}'.format(timeElapsed))"
   ]
  },
  {
   "cell_type": "code",
   "execution_count": null,
   "metadata": {
    "collapsed": true
   },
   "outputs": [],
   "source": [
    "create_bitri_tweets('preprocessed_tweet_data_full.txt', 'bitri_tweet_data_full.txt', False)"
   ]
  },
  {
   "cell_type": "code",
   "execution_count": null,
   "metadata": {
    "collapsed": true
   },
   "outputs": [],
   "source": [
    "import_('preprocessed_tweet_neg_full.txt', False)"
   ]
  },
  {
   "cell_type": "code",
   "execution_count": 3,
   "metadata": {},
   "outputs": [],
   "source": [
    "def build_vocab(tweets, dest_file_name, cut):\n",
    "\n",
    "    # add stemmed tokens, bigrams and trigrams\n",
    "    final_set = Counter()\n",
    "    startTime= datetime.now()\n",
    "    len_tweets = len(tweets)\n",
    "    counter = 0\n",
    "    for tweet in tweets:\n",
    "\n",
    "        # add all tokens of a tweet in the counter\n",
    "        final_set.update(extract_tokens(line))\n",
    "        if counter%1000==1:\n",
    "                print(\"{:.1f}\".format(counter/len_tweets*100), \"%\", end='\\r')\n",
    "\n",
    "    counter+=1\n",
    "\n",
    "    # remove less frequent items\n",
    "    print(\"removing items present less than\", cut, \"times\")\n",
    "    final_set = Counter(token for token in final_set.elements() if final_set[token] >= cut)\n",
    "\n",
    "    with open(dest_file_name, \"w\") as inputfile:\n",
    "        for token, count in final_set.most_common():\n",
    "            inputfile.write(str(count))\n",
    "            inputfile.write(\" \")\n",
    "            inputfile.write(str(token))\n",
    "            inputfile.write(\"\\n\")\n",
    "    print('Time elpased (hh:mm:ss.ms) {}'.format(timeElapsed))\n"
   ]
  },
  {
   "cell_type": "code",
   "execution_count": null,
   "metadata": {
    "collapsed": true
   },
   "outputs": [],
   "source": [
    "print(final_set.most_common(100))"
   ]
  },
  {
   "cell_type": "code",
   "execution_count": null,
   "metadata": {
    "collapsed": true
   },
   "outputs": [],
   "source": [
    "# write to file\n",
    "write_file_name = 'vocab_bitri_preprocessed_pos_full'\n",
    "\n",
    "with open(write_file_name, \"w\") as inputfile:\n",
    "    for token, count in final_set.most_common():\n",
    "        inputfile.write(str(count))\n",
    "        inputfile.write(\" \")\n",
    "        inputfile.write(str(token))\n",
    "        inputfile.write(\"\\n\")"
   ]
  },
  {
   "cell_type": "code",
   "execution_count": null,
   "metadata": {
    "collapsed": true
   },
   "outputs": [],
   "source": []
  }
 ],
 "metadata": {
  "kernelspec": {
   "display_name": "Python 3",
   "language": "python",
   "name": "python3"
  },
  "language_info": {
   "codemirror_mode": {
    "name": "ipython",
    "version": 3
   },
   "file_extension": ".py",
   "mimetype": "text/x-python",
   "name": "python",
   "nbconvert_exporter": "python",
   "pygments_lexer": "ipython3",
   "version": "3.6.1"
  }
 },
 "nbformat": 4,
 "nbformat_minor": 2
}
